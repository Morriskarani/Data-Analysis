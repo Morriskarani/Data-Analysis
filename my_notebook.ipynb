#Data reading, cleaning and primary preparation
pd.read_excel('Sales Data.xlsx')
df= pd.read_excel("Sales Data.xlsx")
print(df)
     Unnamed: 0  Order ID                 Product  Quantity Ordered  Price Each  ...                       Purchase Address Month    Sales           City Hour
0                0    295665      Macbook Pro Laptop                 1     1700.00  ...  136 Church St, Nairobi City, NY 10001    12  1700.00   Nairobi City    0
1                1    295666      LG Washing Machine                 1      600.00  ...     562 2nd St, Nairobi City, NY 10001    12   600.00   Nairobi City    7
2                2    295667    USB-C Charging Cable                 1       11.95  ...    277 Main St, Nairobi City, NY 10001    12    11.95   Nairobi City   18
3                3    295668        27in FHD Monitor                 1      149.99  ...     410 6th St, Mombasa City, CA 94016    12   149.99   Mombasa City   15    
4                4    295669    USB-C Charging Cable                 1       11.95  ...            43 Hill St, Kisii, GA 30301    12    11.95          Kisii   12    
...            ...       ...                     ...               ...         ...  ...                                    ...   ...      ...            ...  ...    
185945       13617    222905  AAA Batteries (4-pack)                 1        2.99  ...          795 Pine St, Nakuru, MA 02215     6     2.99         Nakuru   19    
185946       13618    222906        27in FHD Monitor                 1      149.99  ...   495 North St, Nairobi City, NY 10001     6   149.99   Nairobi City   19    
185947       13619    222907    USB-C Charging Cable                 1       11.95  ...   319 Ridge St, Mombasa City, CA 94016     6    11.95   Mombasa City   18    
185948       13620    222908    USB-C Charging Cable                 1       11.95  ...    916 Main St, Mombasa City, CA 94016     6    11.95   Mombasa City   18    
185949       13621    222909  AAA Batteries (4-pack)                 1        2.99  ...           209 11th St, Kisii, GA 30301     6     2.99          Kisii   14    

[185950 rows x 11 columns]

#Task solving
products = df["Product"].unique()
product_quantities = df[["Product", "Quantity Ordered"]].groupby("Product").sum()
product_quantities.head()
print(product_quantities)
    Quantity Ordered
Product
20in Monitor                            4129
27in 4K Gaming Monitor                  6244
27in FHD Monitor                        7550
34in Ultrawide Monitor                  6199
AA Batteries (4-pack)                  27635
AAA Batteries (4-pack)                 31017
Apple Airpods Headphones               15661
Bose SoundSport Headphones             13457
Flatscreen TV                           4819
Google Phone                            5532
LG Dryer                                 646
LG Washing Machine                       666
Lightning Charging Cable               23217
Macbook Pro Laptop                      4728
ThinkPad Laptop                         4130
USB-C Charging Cable                   23975
Vareebadd Phone                         2068
Wired Headphones                       20557
iPhone                                  6849

#sort in ascending order
product_quantities = product_quantities["Quantity Ordered"].sort_values(ascending=False)
product_quantities.head()
print(product_quantities)
Product
AAA Batteries (4-pack)        31017
AA Batteries (4-pack)         27635
USB-C Charging Cable          23975
Lightning Charging Cable      23217
Wired Headphones              20557
Apple Airpods Headphones      15661
Bose SoundSport Headphones    13457
27in FHD Monitor               7550
iPhone                         6849
27in 4K Gaming Monitor         6244
34in Ultrawide Monitor         6199
Google Phone                   5532
Flatscreen TV                  4819
Macbook Pro Laptop             4728
ThinkPad Laptop                4130
20in Monitor                   4129
Vareebadd Phone                2068
LG Washing Machine              666
LG Dryer                        646

Name: Quantity Ordered, dtype: int64
AAA Batteries (4-pack)        10373.578595
AA Batteries (4-pack)          7196.614583
USB-C Charging Cable           2006.276151
Wired Headphones               1714.512093
Lightning Charging Cable       1552.976589
Bose SoundSport Headphones      134.583458
Apple Airpods Headphones        104.406667
27in FHD Monitor                 50.336689
20in Monitor                     37.539776
34in Ultrawide Monitor           16.313587
Flatscreen TV                    16.063333
27in 4K Gaming Monitor           16.010667
iPhone                            9.784286
Google Phone                      9.220000
Vareebadd Phone                   5.170000
ThinkPad Laptop                   4.130041
Macbook Pro Laptop                2.781176
LG Washing Machine                1.110000
LG Dryer                          1.076667
dtype: float64
#lets see what item was sold the most in each city
cities = df["City"].unique()
print(cities)
product_sells_per_sity = {
    city : df[df["City"] == city][["Product", "Quantity Ordered"]].groupby("Product").sum()["Quantity Ordered"].sort_values(ascending=False) for city in cities
}
for city, products in product_sells_per_sity.items():
    print(city)
    print(products.head(), end="\n\n")
[' Nairobi City' ' Mombasa City' ' Kisii' ' Thika' ' Meru' ' Nanyuki'
 ' Nakuru' ' Eldoret' ' Kisumu']
 Nairobi City

 Mombasa City
Product
AAA Batteries (4-pack)      7408
AA Batteries (4-pack)       6555
USB-C Charging Cable        5894
Lightning Charging Cable    5557
Wired Headphones            4966
Name: Quantity Ordered, dtype: int64

 Kisii
Product
AAA Batteries (4-pack)      2359
AA Batteries (4-pack)       2193
USB-C Charging Cable        1915
Lightning Charging Cable    1879
Wired Headphones            1579
Name: Quantity Ordered, dtype: int64

 Thika
Product
AAA Batteries (4-pack)      2080
AA Batteries (4-pack)       1939
USB-C Charging Cable        1582
Lightning Charging Cable    1531
Wired Headphones            1362
Name: Quantity Ordered, dtype: int64

 Meru
Product
AAA Batteries (4-pack)      2504
AA Batteries (4-pack)       2261
Lightning Charging Cable    1864
USB-C Charging Cable        1852
Wired Headphones            1669
Name: Quantity Ordered, dtype: int64

 Nanyuki
Product
AAA Batteries (4-pack)      4967
AA Batteries (4-pack)       4438
USB-C Charging Cable        3782
Lightning Charging Cable    3772
Wired Headphones            3270
Name: Quantity Ordered, dtype: int64

 Nakuru
Product
AAA Batteries (4-pack)      3461
AA Batteries (4-pack)       3016
USB-C Charging Cable        2561
Lightning Charging Cable    2491
Wired Headphones            2222
Name: Quantity Ordered, dtype: int64

 Eldoret
Product
AAA Batteries (4-pack)      1668
AA Batteries (4-pack)       1424
Lightning Charging Cable    1307
USB-C Charging Cable        1251
Wired Headphones            1130
Name: Quantity Ordered, dtype: int64

 Kisumu
Product
AAA Batteries (4-pack)      2446
AA Batteries (4-pack)       2179
USB-C Charging Cable        1869
Lightning Charging Cable    1775
Wired Headphones            1652
Name: Quantity Ordered, dtype: int64

#lets see five most sold products.
my_Idea = { product : product_quantities[product]/df[df["Product"]==product]["Price Each"].mean() for product in products }
my_Idea = pd.Series(my_Idea).sort_values(ascending=False)
my_Idea.head()
print(my_Idea
Product
AAA Batteries (4-pack)      4124
AA Batteries (4-pack)       3630
USB-C Charging Cable        3269
Lightning Charging Cable    3041
Wired Headphones            2707
Name: Quantity Ordered, dtype: int64
